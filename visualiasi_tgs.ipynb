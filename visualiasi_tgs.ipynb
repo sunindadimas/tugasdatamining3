{
  "cells": [
    {
      "cell_type": "markdown",
      "metadata": {
        "id": "view-in-github",
        "colab_type": "text"
      },
      "source": [
        "<a href=\"https://colab.research.google.com/github/AnndNicc/data-mining/blob/main/visualiasi_tgs.ipynb\" target=\"_parent\"><img src=\"https://colab.research.google.com/assets/colab-badge.svg\" alt=\"Open In Colab\"/></a>"
      ]
    },
    {
      "cell_type": "code",
      "source": [
        "import numpy as np\n",
        "import matplotlib.pyplot as plt\n",
        "import pandas as pd\n"
      ],
      "metadata": {
        "id": "C7pigz49_8Z3"
      },
      "execution_count": null,
      "outputs": []
    },
    {
      "cell_type": "code",
      "source": [
        "data = pd.read_csv(\"Data Covid19.csv\")\n",
        "data.head()"
      ],
      "metadata": {
        "id": "rjK1d4vPBG1i",
        "outputId": "e7db1ddc-de1d-44b9-8ea6-fd4dabbcf044",
        "colab": {
          "base_uri": "https://localhost:8080/",
          "height": 206
        }
      },
      "execution_count": null,
      "outputs": [
        {
          "output_type": "execute_result",
          "data": {
            "text/plain": [
              "  Province/State  Country/Region      Last Update  Confirmed  Deaths  \\\n",
              "0          Anhui  Mainland China  1/22/2020 17:00        1.0     0.0   \n",
              "1        Beijing  Mainland China  1/22/2020 17:00       14.0     0.0   \n",
              "2      Chongqing  Mainland China  1/22/2020 17:00        6.0     0.0   \n",
              "3         Fujian  Mainland China  1/22/2020 17:00        1.0     0.0   \n",
              "4          Gansu  Mainland China  1/22/2020 17:00        0.0     0.0   \n",
              "\n",
              "   Recovered  \n",
              "0        0.0  \n",
              "1        0.0  \n",
              "2        0.0  \n",
              "3        0.0  \n",
              "4        0.0  "
            ],
            "text/html": [
              "\n",
              "  <div id=\"df-04844621-a8df-4601-bcd2-2353b5f57de8\">\n",
              "    <div class=\"colab-df-container\">\n",
              "      <div>\n",
              "<style scoped>\n",
              "    .dataframe tbody tr th:only-of-type {\n",
              "        vertical-align: middle;\n",
              "    }\n",
              "\n",
              "    .dataframe tbody tr th {\n",
              "        vertical-align: top;\n",
              "    }\n",
              "\n",
              "    .dataframe thead th {\n",
              "        text-align: right;\n",
              "    }\n",
              "</style>\n",
              "<table border=\"1\" class=\"dataframe\">\n",
              "  <thead>\n",
              "    <tr style=\"text-align: right;\">\n",
              "      <th></th>\n",
              "      <th>Province/State</th>\n",
              "      <th>Country/Region</th>\n",
              "      <th>Last Update</th>\n",
              "      <th>Confirmed</th>\n",
              "      <th>Deaths</th>\n",
              "      <th>Recovered</th>\n",
              "    </tr>\n",
              "  </thead>\n",
              "  <tbody>\n",
              "    <tr>\n",
              "      <th>0</th>\n",
              "      <td>Anhui</td>\n",
              "      <td>Mainland China</td>\n",
              "      <td>1/22/2020 17:00</td>\n",
              "      <td>1.0</td>\n",
              "      <td>0.0</td>\n",
              "      <td>0.0</td>\n",
              "    </tr>\n",
              "    <tr>\n",
              "      <th>1</th>\n",
              "      <td>Beijing</td>\n",
              "      <td>Mainland China</td>\n",
              "      <td>1/22/2020 17:00</td>\n",
              "      <td>14.0</td>\n",
              "      <td>0.0</td>\n",
              "      <td>0.0</td>\n",
              "    </tr>\n",
              "    <tr>\n",
              "      <th>2</th>\n",
              "      <td>Chongqing</td>\n",
              "      <td>Mainland China</td>\n",
              "      <td>1/22/2020 17:00</td>\n",
              "      <td>6.0</td>\n",
              "      <td>0.0</td>\n",
              "      <td>0.0</td>\n",
              "    </tr>\n",
              "    <tr>\n",
              "      <th>3</th>\n",
              "      <td>Fujian</td>\n",
              "      <td>Mainland China</td>\n",
              "      <td>1/22/2020 17:00</td>\n",
              "      <td>1.0</td>\n",
              "      <td>0.0</td>\n",
              "      <td>0.0</td>\n",
              "    </tr>\n",
              "    <tr>\n",
              "      <th>4</th>\n",
              "      <td>Gansu</td>\n",
              "      <td>Mainland China</td>\n",
              "      <td>1/22/2020 17:00</td>\n",
              "      <td>0.0</td>\n",
              "      <td>0.0</td>\n",
              "      <td>0.0</td>\n",
              "    </tr>\n",
              "  </tbody>\n",
              "</table>\n",
              "</div>\n",
              "      <button class=\"colab-df-convert\" onclick=\"convertToInteractive('df-04844621-a8df-4601-bcd2-2353b5f57de8')\"\n",
              "              title=\"Convert this dataframe to an interactive table.\"\n",
              "              style=\"display:none;\">\n",
              "        \n",
              "  <svg xmlns=\"http://www.w3.org/2000/svg\" height=\"24px\"viewBox=\"0 0 24 24\"\n",
              "       width=\"24px\">\n",
              "    <path d=\"M0 0h24v24H0V0z\" fill=\"none\"/>\n",
              "    <path d=\"M18.56 5.44l.94 2.06.94-2.06 2.06-.94-2.06-.94-.94-2.06-.94 2.06-2.06.94zm-11 1L8.5 8.5l.94-2.06 2.06-.94-2.06-.94L8.5 2.5l-.94 2.06-2.06.94zm10 10l.94 2.06.94-2.06 2.06-.94-2.06-.94-.94-2.06-.94 2.06-2.06.94z\"/><path d=\"M17.41 7.96l-1.37-1.37c-.4-.4-.92-.59-1.43-.59-.52 0-1.04.2-1.43.59L10.3 9.45l-7.72 7.72c-.78.78-.78 2.05 0 2.83L4 21.41c.39.39.9.59 1.41.59.51 0 1.02-.2 1.41-.59l7.78-7.78 2.81-2.81c.8-.78.8-2.07 0-2.86zM5.41 20L4 18.59l7.72-7.72 1.47 1.35L5.41 20z\"/>\n",
              "  </svg>\n",
              "      </button>\n",
              "      \n",
              "  <style>\n",
              "    .colab-df-container {\n",
              "      display:flex;\n",
              "      flex-wrap:wrap;\n",
              "      gap: 12px;\n",
              "    }\n",
              "\n",
              "    .colab-df-convert {\n",
              "      background-color: #E8F0FE;\n",
              "      border: none;\n",
              "      border-radius: 50%;\n",
              "      cursor: pointer;\n",
              "      display: none;\n",
              "      fill: #1967D2;\n",
              "      height: 32px;\n",
              "      padding: 0 0 0 0;\n",
              "      width: 32px;\n",
              "    }\n",
              "\n",
              "    .colab-df-convert:hover {\n",
              "      background-color: #E2EBFA;\n",
              "      box-shadow: 0px 1px 2px rgba(60, 64, 67, 0.3), 0px 1px 3px 1px rgba(60, 64, 67, 0.15);\n",
              "      fill: #174EA6;\n",
              "    }\n",
              "\n",
              "    [theme=dark] .colab-df-convert {\n",
              "      background-color: #3B4455;\n",
              "      fill: #D2E3FC;\n",
              "    }\n",
              "\n",
              "    [theme=dark] .colab-df-convert:hover {\n",
              "      background-color: #434B5C;\n",
              "      box-shadow: 0px 1px 3px 1px rgba(0, 0, 0, 0.15);\n",
              "      filter: drop-shadow(0px 1px 2px rgba(0, 0, 0, 0.3));\n",
              "      fill: #FFFFFF;\n",
              "    }\n",
              "  </style>\n",
              "\n",
              "      <script>\n",
              "        const buttonEl =\n",
              "          document.querySelector('#df-04844621-a8df-4601-bcd2-2353b5f57de8 button.colab-df-convert');\n",
              "        buttonEl.style.display =\n",
              "          google.colab.kernel.accessAllowed ? 'block' : 'none';\n",
              "\n",
              "        async function convertToInteractive(key) {\n",
              "          const element = document.querySelector('#df-04844621-a8df-4601-bcd2-2353b5f57de8');\n",
              "          const dataTable =\n",
              "            await google.colab.kernel.invokeFunction('convertToInteractive',\n",
              "                                                     [key], {});\n",
              "          if (!dataTable) return;\n",
              "\n",
              "          const docLinkHtml = 'Like what you see? Visit the ' +\n",
              "            '<a target=\"_blank\" href=https://colab.research.google.com/notebooks/data_table.ipynb>data table notebook</a>'\n",
              "            + ' to learn more about interactive tables.';\n",
              "          element.innerHTML = '';\n",
              "          dataTable['output_type'] = 'display_data';\n",
              "          await google.colab.output.renderOutput(dataTable, element);\n",
              "          const docLink = document.createElement('div');\n",
              "          docLink.innerHTML = docLinkHtml;\n",
              "          element.appendChild(docLink);\n",
              "        }\n",
              "      </script>\n",
              "    </div>\n",
              "  </div>\n",
              "  "
            ]
          },
          "metadata": {},
          "execution_count": 90
        }
      ]
    },
    {
      "cell_type": "code",
      "source": [
        "data.info()"
      ],
      "metadata": {
        "id": "Tr1bYEV-WlzU",
        "outputId": "57f6dadf-95a6-421b-95bc-98dda44013af",
        "colab": {
          "base_uri": "https://localhost:8080/"
        }
      },
      "execution_count": null,
      "outputs": [
        {
          "output_type": "stream",
          "name": "stdout",
          "text": [
            "<class 'pandas.core.frame.DataFrame'>\n",
            "RangeIndex: 135484 entries, 0 to 135483\n",
            "Data columns (total 6 columns):\n",
            " #   Column          Non-Null Count   Dtype  \n",
            "---  ------          --------------   -----  \n",
            " 0   Province/State  95910 non-null   object \n",
            " 1   Country/Region  135484 non-null  object \n",
            " 2   Last Update     135484 non-null  object \n",
            " 3   Confirmed       135483 non-null  float64\n",
            " 4   Deaths          135483 non-null  float64\n",
            " 5   Recovered       135483 non-null  float64\n",
            "dtypes: float64(3), object(3)\n",
            "memory usage: 6.2+ MB\n"
          ]
        }
      ]
    },
    {
      "cell_type": "code",
      "source": [
        "data['Last Update'].unique()"
      ],
      "metadata": {
        "id": "wHFWwPKkXBsk",
        "outputId": "73e4cd18-7650-46de-8dad-8c22423e1ad9",
        "colab": {
          "base_uri": "https://localhost:8080/"
        }
      },
      "execution_count": null,
      "outputs": [
        {
          "output_type": "execute_result",
          "data": {
            "text/plain": [
              "array(['1/22/2020 17:00', '1/23/20 17:00', '1/24/20 17:00', ...,\n",
              "       '18/10/2020 04.24', '19/10/2020 04.24', '1'], dtype=object)"
            ]
          },
          "metadata": {},
          "execution_count": 93
        }
      ]
    },
    {
      "cell_type": "code",
      "source": [
        "lastest_date = '19/10/2020 04.24'\n",
        "data[data['Last Update']==lastest_date]"
      ],
      "metadata": {
        "id": "jrBrCsojXLt4",
        "outputId": "0c8b1215-451c-467d-d99c-7418bff4732e",
        "colab": {
          "base_uri": "https://localhost:8080/",
          "height": 423
        }
      },
      "execution_count": null,
      "outputs": [
        {
          "output_type": "execute_result",
          "data": {
            "text/plain": [
              "             Province/State Country/Region       Last Update  Confirmed  \\\n",
              "135071                  NaN    Afghanistan  19/10/2020 04.24    40200.0   \n",
              "135072                  NaN        Albania  19/10/2020 04.24    17055.0   \n",
              "135073                  NaN        Algeria  19/10/2020 04.24    54402.0   \n",
              "135074                  NaN        Andorra  19/10/2020 04.24     3377.0   \n",
              "135075                  NaN         Angola  19/10/2020 04.24     7622.0   \n",
              "...                     ...            ...               ...        ...   \n",
              "135478       Kharkiv Oblast        Ukraine  19/10/2020 04.24    28518.0   \n",
              "135479       Kherson Oblast        Ukraine  19/10/2020 04.24     2472.0   \n",
              "135480  Khmelnytskyi Oblast        Ukraine  19/10/2020 04.24    10818.0   \n",
              "135481   Khyber Pakhtunkhwa       Pakistan  19/10/2020 04.24    38645.0   \n",
              "135482                 Kiev        Ukraine  19/10/2020 04.24    30463.0   \n",
              "\n",
              "        Deaths  Recovered  \n",
              "135071  1494.0    33614.0  \n",
              "135072   451.0    10071.0  \n",
              "135073  1856.0    38088.0  \n",
              "135074    59.0     2057.0  \n",
              "135075   247.0     3030.0  \n",
              "...        ...        ...  \n",
              "135478   439.0     5593.0  \n",
              "135479    49.0     1116.0  \n",
              "135480   178.0     4460.0  \n",
              "135481  1265.0    36964.0  \n",
              "135482   582.0    10696.0  \n",
              "\n",
              "[412 rows x 6 columns]"
            ],
            "text/html": [
              "\n",
              "  <div id=\"df-99cbb448-1220-4a3c-8691-79fb5184633d\">\n",
              "    <div class=\"colab-df-container\">\n",
              "      <div>\n",
              "<style scoped>\n",
              "    .dataframe tbody tr th:only-of-type {\n",
              "        vertical-align: middle;\n",
              "    }\n",
              "\n",
              "    .dataframe tbody tr th {\n",
              "        vertical-align: top;\n",
              "    }\n",
              "\n",
              "    .dataframe thead th {\n",
              "        text-align: right;\n",
              "    }\n",
              "</style>\n",
              "<table border=\"1\" class=\"dataframe\">\n",
              "  <thead>\n",
              "    <tr style=\"text-align: right;\">\n",
              "      <th></th>\n",
              "      <th>Province/State</th>\n",
              "      <th>Country/Region</th>\n",
              "      <th>Last Update</th>\n",
              "      <th>Confirmed</th>\n",
              "      <th>Deaths</th>\n",
              "      <th>Recovered</th>\n",
              "    </tr>\n",
              "  </thead>\n",
              "  <tbody>\n",
              "    <tr>\n",
              "      <th>135071</th>\n",
              "      <td>NaN</td>\n",
              "      <td>Afghanistan</td>\n",
              "      <td>19/10/2020 04.24</td>\n",
              "      <td>40200.0</td>\n",
              "      <td>1494.0</td>\n",
              "      <td>33614.0</td>\n",
              "    </tr>\n",
              "    <tr>\n",
              "      <th>135072</th>\n",
              "      <td>NaN</td>\n",
              "      <td>Albania</td>\n",
              "      <td>19/10/2020 04.24</td>\n",
              "      <td>17055.0</td>\n",
              "      <td>451.0</td>\n",
              "      <td>10071.0</td>\n",
              "    </tr>\n",
              "    <tr>\n",
              "      <th>135073</th>\n",
              "      <td>NaN</td>\n",
              "      <td>Algeria</td>\n",
              "      <td>19/10/2020 04.24</td>\n",
              "      <td>54402.0</td>\n",
              "      <td>1856.0</td>\n",
              "      <td>38088.0</td>\n",
              "    </tr>\n",
              "    <tr>\n",
              "      <th>135074</th>\n",
              "      <td>NaN</td>\n",
              "      <td>Andorra</td>\n",
              "      <td>19/10/2020 04.24</td>\n",
              "      <td>3377.0</td>\n",
              "      <td>59.0</td>\n",
              "      <td>2057.0</td>\n",
              "    </tr>\n",
              "    <tr>\n",
              "      <th>135075</th>\n",
              "      <td>NaN</td>\n",
              "      <td>Angola</td>\n",
              "      <td>19/10/2020 04.24</td>\n",
              "      <td>7622.0</td>\n",
              "      <td>247.0</td>\n",
              "      <td>3030.0</td>\n",
              "    </tr>\n",
              "    <tr>\n",
              "      <th>...</th>\n",
              "      <td>...</td>\n",
              "      <td>...</td>\n",
              "      <td>...</td>\n",
              "      <td>...</td>\n",
              "      <td>...</td>\n",
              "      <td>...</td>\n",
              "    </tr>\n",
              "    <tr>\n",
              "      <th>135478</th>\n",
              "      <td>Kharkiv Oblast</td>\n",
              "      <td>Ukraine</td>\n",
              "      <td>19/10/2020 04.24</td>\n",
              "      <td>28518.0</td>\n",
              "      <td>439.0</td>\n",
              "      <td>5593.0</td>\n",
              "    </tr>\n",
              "    <tr>\n",
              "      <th>135479</th>\n",
              "      <td>Kherson Oblast</td>\n",
              "      <td>Ukraine</td>\n",
              "      <td>19/10/2020 04.24</td>\n",
              "      <td>2472.0</td>\n",
              "      <td>49.0</td>\n",
              "      <td>1116.0</td>\n",
              "    </tr>\n",
              "    <tr>\n",
              "      <th>135480</th>\n",
              "      <td>Khmelnytskyi Oblast</td>\n",
              "      <td>Ukraine</td>\n",
              "      <td>19/10/2020 04.24</td>\n",
              "      <td>10818.0</td>\n",
              "      <td>178.0</td>\n",
              "      <td>4460.0</td>\n",
              "    </tr>\n",
              "    <tr>\n",
              "      <th>135481</th>\n",
              "      <td>Khyber Pakhtunkhwa</td>\n",
              "      <td>Pakistan</td>\n",
              "      <td>19/10/2020 04.24</td>\n",
              "      <td>38645.0</td>\n",
              "      <td>1265.0</td>\n",
              "      <td>36964.0</td>\n",
              "    </tr>\n",
              "    <tr>\n",
              "      <th>135482</th>\n",
              "      <td>Kiev</td>\n",
              "      <td>Ukraine</td>\n",
              "      <td>19/10/2020 04.24</td>\n",
              "      <td>30463.0</td>\n",
              "      <td>582.0</td>\n",
              "      <td>10696.0</td>\n",
              "    </tr>\n",
              "  </tbody>\n",
              "</table>\n",
              "<p>412 rows × 6 columns</p>\n",
              "</div>\n",
              "      <button class=\"colab-df-convert\" onclick=\"convertToInteractive('df-99cbb448-1220-4a3c-8691-79fb5184633d')\"\n",
              "              title=\"Convert this dataframe to an interactive table.\"\n",
              "              style=\"display:none;\">\n",
              "        \n",
              "  <svg xmlns=\"http://www.w3.org/2000/svg\" height=\"24px\"viewBox=\"0 0 24 24\"\n",
              "       width=\"24px\">\n",
              "    <path d=\"M0 0h24v24H0V0z\" fill=\"none\"/>\n",
              "    <path d=\"M18.56 5.44l.94 2.06.94-2.06 2.06-.94-2.06-.94-.94-2.06-.94 2.06-2.06.94zm-11 1L8.5 8.5l.94-2.06 2.06-.94-2.06-.94L8.5 2.5l-.94 2.06-2.06.94zm10 10l.94 2.06.94-2.06 2.06-.94-2.06-.94-.94-2.06-.94 2.06-2.06.94z\"/><path d=\"M17.41 7.96l-1.37-1.37c-.4-.4-.92-.59-1.43-.59-.52 0-1.04.2-1.43.59L10.3 9.45l-7.72 7.72c-.78.78-.78 2.05 0 2.83L4 21.41c.39.39.9.59 1.41.59.51 0 1.02-.2 1.41-.59l7.78-7.78 2.81-2.81c.8-.78.8-2.07 0-2.86zM5.41 20L4 18.59l7.72-7.72 1.47 1.35L5.41 20z\"/>\n",
              "  </svg>\n",
              "      </button>\n",
              "      \n",
              "  <style>\n",
              "    .colab-df-container {\n",
              "      display:flex;\n",
              "      flex-wrap:wrap;\n",
              "      gap: 12px;\n",
              "    }\n",
              "\n",
              "    .colab-df-convert {\n",
              "      background-color: #E8F0FE;\n",
              "      border: none;\n",
              "      border-radius: 50%;\n",
              "      cursor: pointer;\n",
              "      display: none;\n",
              "      fill: #1967D2;\n",
              "      height: 32px;\n",
              "      padding: 0 0 0 0;\n",
              "      width: 32px;\n",
              "    }\n",
              "\n",
              "    .colab-df-convert:hover {\n",
              "      background-color: #E2EBFA;\n",
              "      box-shadow: 0px 1px 2px rgba(60, 64, 67, 0.3), 0px 1px 3px 1px rgba(60, 64, 67, 0.15);\n",
              "      fill: #174EA6;\n",
              "    }\n",
              "\n",
              "    [theme=dark] .colab-df-convert {\n",
              "      background-color: #3B4455;\n",
              "      fill: #D2E3FC;\n",
              "    }\n",
              "\n",
              "    [theme=dark] .colab-df-convert:hover {\n",
              "      background-color: #434B5C;\n",
              "      box-shadow: 0px 1px 3px 1px rgba(0, 0, 0, 0.15);\n",
              "      filter: drop-shadow(0px 1px 2px rgba(0, 0, 0, 0.3));\n",
              "      fill: #FFFFFF;\n",
              "    }\n",
              "  </style>\n",
              "\n",
              "      <script>\n",
              "        const buttonEl =\n",
              "          document.querySelector('#df-99cbb448-1220-4a3c-8691-79fb5184633d button.colab-df-convert');\n",
              "        buttonEl.style.display =\n",
              "          google.colab.kernel.accessAllowed ? 'block' : 'none';\n",
              "\n",
              "        async function convertToInteractive(key) {\n",
              "          const element = document.querySelector('#df-99cbb448-1220-4a3c-8691-79fb5184633d');\n",
              "          const dataTable =\n",
              "            await google.colab.kernel.invokeFunction('convertToInteractive',\n",
              "                                                     [key], {});\n",
              "          if (!dataTable) return;\n",
              "\n",
              "          const docLinkHtml = 'Like what you see? Visit the ' +\n",
              "            '<a target=\"_blank\" href=https://colab.research.google.com/notebooks/data_table.ipynb>data table notebook</a>'\n",
              "            + ' to learn more about interactive tables.';\n",
              "          element.innerHTML = '';\n",
              "          dataTable['output_type'] = 'display_data';\n",
              "          await google.colab.output.renderOutput(dataTable, element);\n",
              "          const docLink = document.createElement('div');\n",
              "          docLink.innerHTML = docLinkHtml;\n",
              "          element.appendChild(docLink);\n",
              "        }\n",
              "      </script>\n",
              "    </div>\n",
              "  </div>\n",
              "  "
            ]
          },
          "metadata": {},
          "execution_count": 94
        }
      ]
    },
    {
      "cell_type": "code",
      "source": [
        "unique_countries = data[data.Confirmed>0]['Country/Region'].unique()\n",
        "unique_countries.sort\n",
        "unique_countries"
      ],
      "metadata": {
        "id": "MA3-5VE1Xwsb",
        "outputId": "79d6851f-68ae-4941-cff5-97b44dfce2d9",
        "colab": {
          "base_uri": "https://localhost:8080/"
        }
      },
      "execution_count": null,
      "outputs": [
        {
          "output_type": "execute_result",
          "data": {
            "text/plain": [
              "array(['Mainland China', 'Macau', 'Taiwan', 'US', 'Japan', 'Thailand',\n",
              "       'South Korea', 'Hong Kong', 'Singapore', 'Vietnam', 'France',\n",
              "       'Australia', 'Nepal', 'Malaysia', 'Canada', 'Cambodia',\n",
              "       'Sri Lanka', 'Ivory Coast', 'Germany', 'Finland',\n",
              "       'United Arab Emirates', 'Philippines', 'India', 'Italy', 'UK',\n",
              "       'Russia', 'Sweden', 'Spain', 'Belgium', 'Others', 'Egypt', 'Iran',\n",
              "       'Israel', 'Lebanon', 'Oman', 'Afghanistan', 'Bahrain', 'Iraq',\n",
              "       'Kuwait', 'Austria', 'Algeria', 'Croatia', 'Switzerland',\n",
              "       'Pakistan', 'Brazil', 'Georgia', 'Greece', 'North Macedonia',\n",
              "       'Norway', 'Romania', 'Denmark', 'Estonia', 'Netherlands',\n",
              "       'San Marino', ' Azerbaijan', 'Belarus', 'Iceland', 'Mexico',\n",
              "       'New Zealand', 'Nigeria', 'North Ireland', 'Ireland', 'Lithuania',\n",
              "       'Luxembourg', 'Monaco', 'Qatar', 'Ecuador', 'Azerbaijan',\n",
              "       'Czech Republic', 'Armenia', 'Dominican Republic', 'Indonesia',\n",
              "       'Portugal', 'Andorra', 'Latvia', 'Morocco', 'Saudi Arabia',\n",
              "       'Senegal', 'Argentina', 'Chile', 'Jordan', 'Ukraine',\n",
              "       'Saint Barthelemy', 'Hungary', 'Faroe Islands', 'Gibraltar',\n",
              "       'Liechtenstein', 'Poland', 'Tunisia', 'Palestine',\n",
              "       'Bosnia and Herzegovina', 'Slovenia', 'South Africa', 'Bhutan',\n",
              "       'Cameroon', 'Colombia', 'Costa Rica', 'Peru', 'Serbia', 'Slovakia',\n",
              "       'Togo', 'Vatican City', 'French Guiana', 'Malta', 'Martinique',\n",
              "       'Republic of Ireland', 'Bulgaria', 'Maldives', 'Bangladesh',\n",
              "       'Moldova', 'Paraguay', 'Albania', 'Cyprus', 'St. Martin', 'Brunei',\n",
              "       'occupied Palestinian territory', \"('St. Martin',)\",\n",
              "       'Burkina Faso', 'Channel Islands', 'Holy See', 'Mongolia',\n",
              "       'Panama', 'Bolivia', 'Honduras', 'Congo (Kinshasa)', 'Jamaica',\n",
              "       'Reunion', 'Turkey', 'Cuba', 'Guyana', 'Kazakhstan',\n",
              "       'Cayman Islands', 'Guadeloupe', 'Ethiopia', 'Guinea',\n",
              "       'Antigua and Barbuda', 'Aruba', 'Kenya', 'Uruguay', 'Ghana',\n",
              "       'Jersey', 'Namibia', 'Seychelles', 'Trinidad and Tobago',\n",
              "       'Venezuela', 'Curacao', 'Eswatini', 'Gabon', 'Guatemala',\n",
              "       'Guernsey', 'Mauritania', 'Rwanda', 'Saint Lucia',\n",
              "       'Saint Vincent and the Grenadines', 'Sudan', 'Suriname', 'Kosovo',\n",
              "       'Central African Republic', 'Congo (Brazzaville)',\n",
              "       'Equatorial Guinea', 'Uzbekistan', 'Guam', 'Puerto Rico', 'Benin',\n",
              "       'Greenland', 'Liberia', 'Mayotte', 'Republic of the Congo',\n",
              "       'Somalia', 'Tanzania', 'The Bahamas', 'Barbados', 'Montenegro',\n",
              "       'The Gambia', 'Kyrgyzstan', 'Mauritius', 'Zambia', 'Djibouti',\n",
              "       'Gambia, The', 'Bahamas, The', 'Chad', 'El Salvador', 'Fiji',\n",
              "       'Nicaragua', 'Madagascar', 'Haiti', 'Angola', 'Cabo Verde',\n",
              "       'Niger', 'Papua New Guinea', 'Zimbabwe', 'Cape Verde',\n",
              "       'East Timor', 'Eritrea', 'Uganda', 'Bahamas', 'Dominica', 'Gambia',\n",
              "       'Grenada', 'Mozambique', 'Syria', 'Timor-Leste', 'Belize', 'Laos',\n",
              "       'Libya', 'Diamond Princess', 'Guinea-Bissau', 'Mali',\n",
              "       'Saint Kitts and Nevis', 'West Bank and Gaza', 'Burma',\n",
              "       'MS Zaandam', 'Botswana', 'Burundi', 'Sierra Leone', 'Malawi',\n",
              "       'South Sudan', 'Sao Tome and Principe', 'Yemen', 'Comoros',\n",
              "       'Tajikistan', 'Lesotho', 'Solomon Islands'], dtype=object)"
            ]
          },
          "metadata": {},
          "execution_count": 95
        }
      ]
    },
    {
      "cell_type": "code",
      "source": [
        "country_confirmed_case = []\n",
        "for i in unique_countries:\n",
        "  country_confirmed_case.append(data[data.Confirmed>0][data['Country/Region']==i][data['Last Update']==lastest_date].Confirmed.sum())"
      ],
      "metadata": {
        "id": "hlrvbNTxYToc",
        "outputId": "d22b909d-e6ca-46a0-b598-e671018162d9",
        "colab": {
          "base_uri": "https://localhost:8080/"
        }
      },
      "execution_count": null,
      "outputs": [
        {
          "output_type": "stream",
          "name": "stderr",
          "text": [
            "<ipython-input-100-20ff85a51bd7>:3: UserWarning: Boolean Series key will be reindexed to match DataFrame index.\n",
            "  country_confirmed_case.append(data[data.Confirmed>0][data['Country/Region']==i][data['Last Update']==lastest_date].Confirmed.sum())\n"
          ]
        }
      ]
    },
    {
      "cell_type": "code",
      "source": [
        "from pandas.core.arrays.datetimelike import unique1d\n",
        "print(set(zip(unique_countries, country_confirmed_case)))"
      ],
      "metadata": {
        "id": "0THmbV2JcSqQ",
        "outputId": "83a56d8d-f47a-4d26-bb7d-5942e804b7f4",
        "colab": {
          "base_uri": "https://localhost:8080/"
        }
      },
      "execution_count": null,
      "outputs": [
        {
          "output_type": "stream",
          "name": "stdout",
          "text": [
            "{('Germany', 206122.0), ('Haiti', 8925.0), ('Mainland China', 79354.0), ('Madagascar', 16810.0), ('Mexico', 376099.0), ('Lebanon', 62286.0), ('Bahamas, The', 0.0), ('Moldova', 67050.0), ('Iraq', 426634.0), ('Malta', 4628.0), ('Martinique', 0.0), ('Cabo Verde', 7752.0), ('Cape Verde', 0.0), ('Netherlands', 42608.0), ('Mauritania', 7608.0), ('Oman', 109953.0), ('Brazil', 1504372.0), ('Seychelles', 149.0), ('Puerto Rico', 0.0), ('Uganda', 10590.0), ('Burma', 36025.0), ('Ecuador', 153289.0), ('Chile', 88070.0), ('Morocco', 173632.0), ('Jordan', 37573.0), ('Panama', 124745.0), ('French Guiana', 0.0), ('Republic of the Congo', 0.0), ('Singapore', 57911.0), ('Eswatini', 5780.0), ('Serbia', 36160.0), ('France', 928839.0), ('Guyana', 3734.0), ('Bulgaria', 29503.0), ('Denmark', 35893.0), ('South Africa', 703793.0), ('Bosnia and Herzegovina', 34112.0), ('Ethiopia', 89137.0), ('Bolivia', 139771.0), ('Brunei', 147.0), ('Slovakia', 29835.0), ('occupied Palestinian territory', 0.0), ('Egypt', 105424.0), ('Jamaica', 8274.0), ('Namibia', 12293.0), ('Angola', 7622.0), ('Senegal', 15418.0), ('Zimbabwe', 8147.0), ('Iran', 530380.0), ('Mozambique', 10866.0), ('Saint Kitts and Nevis', 19.0), ('Faroe Islands', 0.0), ('Maldives', 11210.0), ('Djibouti', 5459.0), ('Malaysia', 20498.0), ('Argentina', 989680.0), ('Gibraltar', 0.0), ('Cuba', 6220.0), ('Paraguay', 54724.0), (\"('St. Martin',)\", 0.0), ('Albania', 17055.0), ('San Marino', 759.0), ('Romania', 180388.0), ('Palestine', 0.0), ('Canada', 32977.0), ('Others', 0.0), ('Afghanistan', 40200.0), ('Finland', 13424.0), ('South Korea', 25275.0), ('Congo (Kinshasa)', 11006.0), ('East Timor', 0.0), ('Gambia', 3649.0), ('Venezuela', 86636.0), ('Czech Republic', 173885.0), ('Cyprus', 2644.0), ('Holy See', 27.0), ('Congo (Brazzaville)', 5156.0), ('Barbados', 221.0), ('North Ireland', 0.0), ('Tunisia', 40542.0), ('Honduras', 88425.0), ('Gambia, The', 0.0), ('Luxembourg', 10888.0), ('Saint Barthelemy', 0.0), ('Australia', 113.0), ('Japan', 33939.0), ('Curacao', 0.0), ('Ireland', 49962.0), ('Peru', 254250.0), ('Mauritius', 417.0), ('Indonesia', 361867.0), ('Qatar', 129431.0), ('Sweden', 18822.0), ('Georgia', 17477.0), ('Aruba', 0.0), ('Croatia', 25580.0), ('Suriname', 5130.0), ('Russia', 290134.0), ('Belize', 2813.0), ('Liberia', 1377.0), ('Switzerland', 74422.0), ('Turkey', 347493.0), ('Reunion', 0.0), ('India', 3374850.0), ('Hong Kong', 5241.0), ('Mayotte', 0.0), ('Republic of Ireland', 0.0), ('Sri Lanka', 5538.0), ('MS Zaandam', 9.0), ('Bahrain', 77902.0), ('Comoros', 502.0), ('Kuwait', 116146.0), ('West Bank and Gaza', 47135.0), ('Vietnam', 1134.0), ('Diamond Princess', 712.0), ('Iceland', 4055.0), ('Dominica', 33.0), ('Uruguay', 2531.0), ('The Gambia', 0.0), ('Mali', 3388.0), ('Grenada', 27.0), ('Mongolia', 324.0), ('Guernsey', 0.0), ('Sudan', 13711.0), ('Malawi', 5857.0), ('Saint Lucia', 33.0), ('Sao Tome and Principe', 933.0), ('Lesotho', 1833.0), (' Azerbaijan', 0.0), ('Kosovo', 16891.0), ('Zambia', 15853.0), ('Italy', 83322.0), ('Uzbekistan', 63124.0), ('Kenya', 44881.0), ('Costa Rica', 95514.0), ('Lithuania', 7511.0), ('Channel Islands', 0.0), ('Latvia', 3450.0), ('Norway', 16457.0), ('Poland', 175766.0), ('Guatemala', 101360.0), ('Cambodia', 283.0), ('Slovenia', 13142.0), ('Macau', 0.0), ('Jersey', 0.0), ('Nepal', 132246.0), ('Rwanda', 4974.0), ('Niger', 1210.0), ('Greece', 25370.0), ('Antigua and Barbuda', 119.0), ('Eritrea', 452.0), ('Benin', 2496.0), ('Guinea', 11518.0), ('The Bahamas', 0.0), ('Fiji', 32.0), ('Nicaragua', 5353.0), ('Chad', 1379.0), ('North Macedonia', 23628.0), ('El Salvador', 31666.0), ('Syria', 5077.0), ('Nigeria', 61440.0), ('Botswana', 5242.0), ('Cayman Islands', 0.0), ('Liechtenstein', 224.0), ('United Arab Emirates', 115602.0), ('Ivory Coast', 20323.0), ('Portugal', 99911.0), ('Papua New Guinea', 581.0), ('Algeria', 54402.0), ('Thailand', 3691.0), ('Guinea-Bissau', 2389.0), ('Guam', 0.0), ('Greenland', 0.0), ('Somalia', 3864.0), ('Pakistan', 79959.0), ('UK', 615018.0), ('US', 3511852.0), ('Israel', 303687.0), ('Ghana', 47310.0), ('Central African Republic', 4855.0), ('Tanzania', 509.0), ('Bahamas', 5703.0), ('Libya', 48790.0), ('Tajikistan', 10493.0), ('Belarus', 87698.0), ('Spain', 546117.0), ('Monaco', 265.0), ('St. Martin', 0.0), ('Belgium', 222253.0), ('Burkina Faso', 2381.0), ('Cameroon', 21441.0), ('Gabon', 8881.0), ('Andorra', 3377.0), ('Laos', 23.0), ('Saint Vincent and the Grenadines', 67.0), ('Equatorial Guinea', 5070.0), ('Yemen', 2056.0), ('Burundi', 542.0), ('Philippines', 356618.0), ('Armenia', 64694.0), ('Bhutan', 327.0), ('Solomon Islands', 3.0), ('Timor-Leste', 29.0), ('South Sudan', 2842.0), ('Taiwan', 535.0), ('Ukraine', 144738.0), ('Vatican City', 0.0), ('Kyrgyzstan', 52044.0), ('Togo', 2057.0), ('Bangladesh', 388569.0), ('Sierra Leone', 2330.0), ('Dominican Republic', 121347.0), ('Saudi Arabia', 342202.0), ('Montenegro', 15615.0), ('Estonia', 4078.0), ('Austria', 64806.0), ('Guadeloupe', 0.0), ('Trinidad and Tobago', 5297.0), ('Azerbaijan', 44964.0), ('Kazakhstan', 145320.0), ('Hungary', 46290.0), ('New Zealand', 1886.0), ('Colombia', 704073.0)}\n"
          ]
        }
      ]
    },
    {
      "cell_type": "code",
      "source": [
        "plt.barh(unique_countries, country_confirmed_case)\n",
        "plt.show()"
      ],
      "metadata": {
        "id": "gBgnK28qdCMq",
        "outputId": "e5c6629d-5ac7-4984-e9de-3d1e7d1bd081",
        "colab": {
          "base_uri": "https://localhost:8080/",
          "height": 278
        }
      },
      "execution_count": null,
      "outputs": [
        {
          "output_type": "display_data",
          "data": {
            "text/plain": [
              "<Figure size 432x288 with 1 Axes>"
            ],
            "image/png": "[encoded data removed]"
          },
          "metadata": {
            "needs_background": "light"
          }
        }
      ]
    }
  ],
  "metadata": {
    "colab": {
      "provenance": [],
      "include_colab_link": true
    },
    "kernelspec": {
      "display_name": "Python 3",
      "name": "python3"
    }
  },
  "nbformat": 4,
  "nbformat_minor": 0
}